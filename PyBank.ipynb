{
 "cells": [
  {
   "cell_type": "code",
   "execution_count": 76,
   "metadata": {},
   "outputs": [],
   "source": [
    "# Import the pathlib and csv library\n",
    "from pathlib import Path\n",
    "import csv\n",
    "\n",
    "# Set the file path\n",
    "csvpath = Path('budget_data.csv')\n",
    "\n",
    "# Initialize variables\n",
    "total_months = 0\n",
    "total_revenue = 0\n",
    "revenue = []\n",
    "previous_revenue = 0\n",
    "month_of_change = []\n",
    "revenue_change = 0\n",
    "greatest_decrease = [\"\", 9999999]\n",
    "greatest_increase = [\"\", 0]\n",
    "revenue_change_list = []\n",
    "revenue_average = 0"
   ]
  },
  {
   "cell_type": "code",
   "execution_count": 77,
   "metadata": {},
   "outputs": [
    {
     "name": "stdout",
     "output_type": "stream",
     "text": [
      "<class '_io.TextIOWrapper'>\n",
      "<class '_csv.reader'>\n",
      "Date,Profit/Losses\n",
      " <---- HEADER\n"
     ]
    }
   ],
   "source": [
    "# Open and read the CSV\n",
    "with open(csvpath, 'r') as csvfile: \n",
    "    \n",
    "    # Print the datatype of the file object\n",
    "    print(type(csvfile))\n",
    "    \n",
    "    # Pass in the csv file to the csv.reader() function\n",
    "    # (with ',' as the delmiter/separator) and return the csvreader object\n",
    "    csvreader = csv.reader(csvfile, delimiter=',')\n",
    "    \n",
    "    # Print the datatype of the csvreader\n",
    "    print(type(csvreader))\n",
    "    \n",
    "    # Go to the next row from the start of the file\n",
    "    # (which is often the first row/header) and iterate line_num by 1\n",
    "    header = next(csvfile)\n",
    "    line_num += 1\n",
    "    # Print the header\n",
    "    print(f\"{header} <---- HEADER\")\n",
    "    \n",
    "    #Loop through to find total months\n",
    "    for row in csvreader:\n",
    "\n",
    "        #Count the total of months\n",
    "        total_months += 1\n",
    "\n",
    "         #Calculate the total revenue over the entire period\n",
    "        total_revenue = total_revenue + int(row[1])\n",
    "    \n",
    "        #Calculate the average change in revenue between months over the entire period\n",
    "        revenue_change = float(row[1])- previous_revenue\n",
    "        previous_revenue = float(row[1])\n",
    "        revenue_change_list = revenue_change_list + [revenue_change]\n",
    "        month_of_change = [month_of_change] + [row[0]]"
   ]
  },
  {
   "cell_type": "code",
   "execution_count": 78,
   "metadata": {},
   "outputs": [],
   "source": [
    "        #The greatest increase in revenue (date and amount) over the entire period\n",
    "        if revenue_change>greatest_increase[1]:\n",
    "            greatest_increase[1]= revenue_change\n",
    "            greatest_increase[0] = row[0]\n",
    "\n",
    "        #The greatest decrease in revenue (date and amount) over the entire period\n",
    "        if revenue_change<greatest_decrease[1]:\n",
    "            greatest_decrease[1]= revenue_change\n",
    "            greatest_decrease[0] = row[0]\n",
    "    revenue_average = sum(revenue_change_list)/len(revenue_change_list)"
   ]
  },
  {
   "cell_type": "code",
   "execution_count": 80,
   "metadata": {},
   "outputs": [],
   "source": [
    "# Set the output file path\n",
    "output_path = Path('output.txt')\n",
    "\n",
    "# Open the output path as a file object\n",
    "with open(output_path, 'w') as file:\n",
    "    file.write(\"Financial Analysis\\n\")\n",
    "    file.write(\"---------------------\\n\")\n",
    "    file.write(\"Total Months: %d\\n\" % total_months)\n",
    "    file.write(\"Total Revenue: $%d\\n\" % total_revenue)\n",
    "    file.write(\"Average Revenue Change $%d\\n\" % revenue_average)\n",
    "    file.write(\"Greatest Increase in Revenue: %s ($%s)\\n\" % (greatest_increase[0], greatest_increase[1]))\n",
    "    file.write(\"Greatest Decrease in Revenue: %s ($%s)\\n\" % (greatest_decrease[0], greatest_decrease[1]))"
   ]
  },
  {
   "cell_type": "code",
   "execution_count": null,
   "metadata": {},
   "outputs": [],
   "source": []
  }
 ],
 "metadata": {
  "kernelspec": {
   "display_name": "Python 3",
   "language": "python",
   "name": "python3"
  },
  "language_info": {
   "codemirror_mode": {
    "name": "ipython",
    "version": 3
   },
   "file_extension": ".py",
   "mimetype": "text/x-python",
   "name": "python",
   "nbconvert_exporter": "python",
   "pygments_lexer": "ipython3",
   "version": "3.7.4"
  }
 },
 "nbformat": 4,
 "nbformat_minor": 4
}
